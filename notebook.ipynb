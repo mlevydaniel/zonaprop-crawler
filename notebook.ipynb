{
 "cells": [
  {
   "cell_type": "code",
   "execution_count": 24,
   "metadata": {},
   "outputs": [],
   "source": [
    "import requests\n",
    "from bs4 import BeautifulSoup\n",
    "import re\n"
   ]
  },
  {
   "cell_type": "code",
   "execution_count": 54,
   "metadata": {},
   "outputs": [],
   "source": [
    "headers = {\n",
    "    'User-Agent': 'Mozilla/5.0 (Windows NT 10.0; Win64; x64) AppleWebKit/537.36 (KHTML, like Gecko) Chrome/91.0.4472.124 Safari/537.36'\n",
    "}\n",
    "\n",
    "# Search results sections\n",
    "url = 'https://www.zonaprop.com.ar/casas-departamentos-ph-alquiler-caballito.html'\n",
    "\n",
    "# Listing section\n",
    "url = 'https://www.zonaprop.com.ar/propiedades/clasificado/alclapin-colpayo-700-53876211.html'\n",
    "\n",
    "all_listings = []\n",
    "\n",
    "\n",
    "response = requests.get(url, headers=headers)\n",
    "html_content = response.text\n",
    "soup = BeautifulSoup(html_content, 'html.parser')\n",
    "\n",
    "# soup"
   ]
  },
  {
   "cell_type": "markdown",
   "metadata": {},
   "source": [
    "## Extract Listings"
   ]
  },
  {
   "cell_type": "code",
   "execution_count": 3,
   "metadata": {},
   "outputs": [],
   "source": [
    "listings = soup.find_all('div', class_='PostingCardLayout-sc-i1odl-0')\n",
    "listings"
   ]
  },
  {
   "cell_type": "code",
   "execution_count": 30,
   "metadata": {},
   "outputs": [
    {
     "data": {
      "text/plain": [
       "'https://www.zonaprop.com.ar/casas-departamentos-ph-alquiler-caballito-pagina-2.html'"
      ]
     },
     "execution_count": 30,
     "metadata": {},
     "output_type": "execute_result"
    }
   ],
   "source": [
    "# soup.find('a', class_='PageItem-sc-n5babu-1')\n",
    "\n",
    "next_page = soup.find('a', attrs={'data-qa': 'PAGING_2'})\n",
    "f\"https://www.zonaprop.com.ar{next_page['href']}\" if next_page else None"
   ]
  },
  {
   "cell_type": "code",
   "execution_count": 18,
   "metadata": {},
   "outputs": [
    {
     "data": {
      "text/plain": [
       "<div class=\"PostingCardLayout-sc-i1odl-0 egwEUc\" data-id=\"53972741\" data-posting-type=\"PROPERTY\" data-qa=\"posting PROPERTY\" data-to-posting=\"/propiedades/clasificado/alclapin-alquiler-departamento-2-ambientes-en-caballito-53972741.html\"><div class=\"PostingCardContainer-sc-i1odl-1 kfOVKt\"><div class=\"GalleryContainer-sc-n2cjqs-0 ckhZnU\" data-qa=\"POSTING_CARD_GALLERY\"><div class=\"lazyload-wrapper\" style=\"width:100%;height:100%;position:absolute\"><img alt=\"Departamento · 42m² · 2 Ambientes · Alquiler Departamento 2 Ambientes en Caballito\" fetchpriority=\"high\" height=\"100%\" loading=\"eager\" src=\"https://imgar.zonapropcdn.com/avisos/1/00/53/97/27/41/360x266/1918959678.jpg?isFirstImage=true\" style=\"object-fit:cover\" width=\"100%\"/></div></div><div class=\"PostingContainer-sc-i1odl-2 iQlPeD\"><div class=\"PostingTop-sc-i1odl-3 hCsHEP\"><div><div class=\"PostingCardRow-sc-i1odl-5 kgqRDY\"><div class=\"PostingPricesAndPublisher-sc-i1odl-8 hcxUmI\"><div class=\"PostingCardPriceBlock-sc-12dh9kl-0 diTcpX\"><div class=\"PriceContainer-sc-12dh9kl-2 ePWLec\"><div class=\"Price-sc-12dh9kl-3 geYYII\" data-qa=\"POSTING_CARD_PRICE\">USD 550</div></div><div class=\"Expenses-sc-12dh9kl-1 iboaIF\" data-qa=\"expensas\">$ 50.000 Expensas</div></div></div></div><div class=\"PostingCardRow-sc-i1odl-5 gJKAik\"><div class=\"LocationBlock-sc-ge2uzh-1 cVCbkm\"><div class=\"LocationAddress-sc-ge2uzh-0 iylBOA postingAddress\">Jose Maria Moreno al 300</div><h2 class=\"LocationLocation-sc-ge2uzh-2 fziprF\" data-qa=\"POSTING_CARD_LOCATION\">Caballito, Capital Federal</h2></div></div><div class=\"PostingCardRow-sc-i1odl-5 fPulTZ\"><h3 class=\"PostingMainFeaturesBlock-sc-1uhtbxc-0 cHDgeO\" data-qa=\"POSTING_CARD_FEATURES\"><span>46 m² tot.</span><span>2 amb.</span><span>1 dorm.</span><span>1 baño</span></h3></div><h3 class=\"PostingDescription-sc-i1odl-11 fECErU\" data-qa=\"POSTING_CARD_DESCRIPTION\"><a href=\"/propiedades/clasificado/alclapin-alquiler-departamento-2-ambientes-en-caballito-53972741.html\">Alquiler temporario departamento 2 ambientes amoblado en caballito. Hermoso 2 ambientes con balcón en la mejor zona de Caballito. Totalmente Amoblado y Equipado. Cocina Completa con bajo y alto mesada, equipada con Heladera, Horno Eléctrico, Microondas, Licuadora, Horno y anafe a gas. Lavadero independiente en balcón. Living Comedor con salida directa al Balcón. Aire Acondicionado, plasma de 42 pulgadas, en frente al Sofá. Espacioso Dormitorio en suite con baño completo. Tv, &amp;amp;nbsp; Placard, Aire Acondicionado con salida al Balcón. Pisos de Porcelanato, con Losa Radiante individual. Caldera Individual a Gas. Aire acondicionado en los dos ambientes&amp;amp;nbsp;Edificio de categoria con diseño arquitectónico desarrollado en 8 pisos. &amp;amp;nbsp;full amenities: - Parrillas- Terraza de uso común- S. U. M- Vigilancia 24hs- Pileta- Solarium- Gimnasio- Laundry- VestuariosUbicado en la zona más destacada de Caballito, a pocas cuadras de la Av. Pedro Goyena y la Av. Rivadavia. Desde aca, tendrás acceso inmediato a comercios, escuelas, el Shopping Caballito, cines, el Parque Rivadavia, la estación Acoyte de la línea &amp;quot;A&amp;quot; de subte y conexiones con líneas de colectivos. alquiler por temporal por&amp;amp;nbsp; 3 // 6 // 12 meses. Alvaro Ignacio Gallo Y Kaplan cucicba 8145. - María José González Zudaire cmcpsi 6197Las medidas, superficies consignadas en la presente descripción son aproximadas, a solo título orientativo y no son vinculantes. Las medidas y superficies reales surgen del Título respectivo. </a></h3></div><div class=\"ElementRight-sc-i1odl-26 hUJBxQ\"><button aria-label=\"Favorito\" class=\"StyledButton-sc-1b3blmr-0 fmZKPt\" data-qa=\"CARD_FAV\" font-size=\"16px\" font-weight=\"500\" height=\"40px\" width=\"40px\"><svg color=\"currentColor\" fill=\"currentColor\" font-size=\"25px\" height=\"1em\" stroke=\"currentColor\" stroke-width=\"0\" viewbox=\"0 0 16 14\" width=\"1em\" xmlns=\"http://www.w3.org/2000/svg\"><path d=\"M8 13.7c-.1 0-.3 0-.4-.1l-5.8-6a4.05 4.05 0 010-5.9C3.4.1 6.1.1 7.7 1.7l.3.4.4-.4c1.6-1.6 4.3-1.6 5.9 0 1.6 1.6 1.6 4.3 0 5.9l-5.9 5.9c-.1.1-.3.2-.4.2zM4.7 1.5c-.8 0-1.6.3-2.2.9-1.2 1.2-1.2 3.2 0 4.5L8 12.4l5.5-5.5c.6-.6.9-1.4.9-2.2 0-.8-.3-1.7-.9-2.3-1.2-1.2-3.2-1.2-4.5 0l-.6.7c-.2.2-.5.2-.7 0l-.8-.7c-.6-.6-1.4-.9-2.2-.9z\" fill=\"#000\"></path></svg></button></div></div><div class=\"PostingBottom-sc-i1odl-4 MFvau\"><div class=\"PublisherData-sc-i1odl-31 iKIxOF\"><div class=\"LogosContainers-sc-hlm4rl-3 jkKdaq\"><div class=\"PostingPublisherBlock-sc-hlm4rl-0 dPePpM\"><div class=\"ContainerLogoPublisher-sc-hlm4rl-5 bQWTiz\"><div class=\"PublisherPremierSticker-sc-hlm4rl-1 eGmNkM\"></div><img alt=\"logo publisher\" class=\"Logo-sc-hlm4rl-2 czToXI\" data-qa=\"POSTING_CARD_PUBLISHER\" loading=\"lazy\" src=\"https://imgar.zonapropcdn.com/empresas/1/00/30/49/78/95/130x70/logo_lanven-s.a._1712177185572.jpg\"/></div></div></div><div class=\"FlexColumn-sc-i1odl-30 ccywRy\" height=\"40px\"><div class=\"HighLight-sc-i1odl-10 cUoSIX\">Super destacado</div></div></div><div class=\"CallToActions-sc-i1odl-7 jzYLLU\"><div class=\"ActionsContainer-sc-pr9m2p-0 jHSETG\"><div class=\"ContactContainer-sc-pr9m2p-1 bIa-Dbv\"><button class=\"StyledButton-sc-1b3blmr-0 QbPws\" data-qa=\"CARD_VIEWPHONE\" font-size=\"16px\" font-weight=\"600\" width=\"40px\"><svg color=\"currentColor\" fill=\"currentColor\" font-size=\"25px\" height=\"1em\" stroke=\"none\" viewbox=\"0 0 16 16\" width=\"1em\" xmlns=\"http://www.w3.org/2000/svg\"><path d=\"M13.3 15.1h-.2c-2.1-.2-4.2-1-6-2.1-1.6-1.1-3-2.5-4.1-4.2C1.9 7 1.1 5 .9 2.8c0-.5.1-1 .4-1.3.3-.3.8-.6 1.2-.7h2.2c.9 0 1.7.7 1.8 1.6.1.6.3 1.2.5 1.8.3.7.1 1.4-.4 1.9l-.6.6C6.8 8 8 9.2 9.3 10l.6-.6c.5-.5 1.3-.7 1.9-.4.6.2 1.2.4 1.8.4.9.1 1.6.9 1.6 1.9v2c0 1-.8 1.8-1.9 1.8zM4.8 1.8s-.1 0 0 0h-2c-.4.1-.6.2-.7.3-.1.2-.2.4-.2.6.2 2 .9 3.9 2 5.6 1 1.5 2.3 2.9 3.8 3.8 1.7 1.1 3.6 1.8 5.5 2 .5 0 .9-.4.9-.8v-2c0-.4-.3-.8-.7-.8-.7-.1-1.3-.3-2-.5-.3-.1-.6 0-.9.2l-.8.8c-.2.2-.4.2-.6.1C7.4 10 6 8.6 5 6.9c-.2-.2-.1-.5 0-.6l.8-.8c.2-.2.3-.6.2-.9-.2-.6-.4-1.3-.5-2 0-.5-.3-.8-.7-.8z\" fill=\"#000\"></path></svg></button><button class=\"StyledButton-sc-1b3blmr-0 fDxnjO StyledButton-sc-145xx3e-0 Gwnc\" data-qa=\"CARD_WHATSAPP\" font-size=\"16px\" font-weight=\"600\">WhatsApp<svg baseprofile=\"tiny\" color=\"currentColor\" fill=\"currentColor\" font-size=\"25px\" height=\"1em\" viewbox=\"0 0 100 100\" width=\"1em\" xmlns=\"http://www.w3.org/2000/svg\"><path d=\"M84.9 49c0 18.8-15.4 34-34.3 34-5.8 0-11.5-1.4-16.6-4.2l-19 6 6.2-18.3C18 61.3 16.3 55.2 16.3 49c0-18.8 15.4-34 34.3-34s34.3 15.2 34.3 34zM50.6 20.4c-15.9 0-28.8 12.8-28.8 28.6 0 6.3 2 12.1 5.5 16.8l-3.6 10.6 11.1-3.5c4.7 3.1 10.2 4.7 15.9 4.7 15.9 0 28.8-12.8 28.8-28.6-.1-15.7-13-28.6-28.9-28.6zm17.3 36.5c-.2-.3-.8-.6-1.6-1s-5-2.4-5.7-2.7c-.8-.3-1.3-.4-1.9.4-.6.8-2.2 2.7-2.7 3.3-.5.6-1 .6-1.8.2-.8-.4-3.6-1.3-6.8-4.1-2.5-2.2-4.2-4.9-4.7-5.8-.5-.8 0-1.3.4-1.7.4-.4.8-1 1.3-1.5.4-.5.6-.8.8-1.4.3-.6.1-1-.1-1.5-.2-.4-1.9-4.5-2.6-6.2-.7-1.7-1.4-1.4-1.9-1.4s-1.1-.1-1.6-.1c-.9 0-1.7.4-2.2 1-.8.8-2.9 2.9-2.9 7s3 8.1 3.4 8.6 5.8 9.3 14.4 12.6c8.6 3.3 8.6 2.2 10.1 2.1 1.5-.1 5-2 5.7-4 .6-1.8.6-3.5.4-3.8z\"></path></svg></button><button class=\"StyledButton-sc-1b3blmr-0 ifHpqM StyledButton-sc-1wzyloj-2 kSehaK\" data-qa=\"CARD_CONTACT_MODAL\" font-size=\"16px\" font-weight=\"600\">Contactar<svg color=\"currentColor\" fill=\"currentColor\" font-size=\"25px\" height=\"16\" viewbox=\"0 0 16 16\" width=\"16\" xmlns=\"http://www.w3.org/2000/svg\"><path d=\"M1.86852 3.7637C1.97135 3.41998 2.29205 3.1665 2.66736 3.1665H13.334C13.7093 3.1665 14.03 3.41998 14.1329 3.7637L8.00069 8.05622L1.86852 3.7637ZM0.834046 3.99161C0.833971 3.99641 0.833965 4.00121 0.834027 4.006V11.9998C0.834027 13.0093 1.65788 13.8332 2.66736 13.8332H13.334C14.3435 13.8332 15.1674 13.0093 15.1674 11.9998V4.00599M14.1674 4.96021V11.9998C14.1674 12.457 13.7912 12.8332 13.334 12.8332H2.66736C2.21017 12.8332 1.83403 12.457 1.83403 11.9998V4.96021L7.71396 9.07616C7.88612 9.19667 8.11527 9.19667 8.28743 9.07616L14.1674 4.96021ZM15.1673 3.99163C15.1629 2.9859 14.3408 2.1665 13.334 2.1665H2.66736C1.66063 2.1665 0.838507 2.98589 0.834046 3.99161\" fill=\"white\"></path></svg></button></div></div></div></div></div></div></div>"
      ]
     },
     "execution_count": 18,
     "metadata": {},
     "output_type": "execute_result"
    }
   ],
   "source": [
    "listings[0]"
   ]
  },
  {
   "cell_type": "markdown",
   "metadata": {},
   "source": [
    "## Extract listing details"
   ]
  },
  {
   "cell_type": "code",
   "execution_count": 87,
   "metadata": {},
   "outputs": [],
   "source": [
    "feature_section = soup.find('ul', id='section-icon-features-property')\n",
    "\n",
    "feature_items = feature_section.find_all('li', class_='icon-feature')"
   ]
  },
  {
   "cell_type": "code",
   "execution_count": 85,
   "metadata": {},
   "outputs": [],
   "source": [
    "details = {}\n",
    "\n",
    "icon_to_attr = {\n",
    "    'icon-stotal': 'total_area',\n",
    "    'icon-scubierta': 'covered_area',\n",
    "    'icon-ambiente': 'rooms',\n",
    "    'icon-bano': 'bathrooms',\n",
    "    'icon-cochera': 'parking_spaces',\n",
    "    'icon-dormitorio': 'bedrooms',\n",
    "    'icon-antiguedad': 'age'\n",
    "}\n",
    "\n",
    "for icon_class, attr_name in icon_to_attr.items():\n",
    "    element = feature_section.find('i', class_=icon_class)\n",
    "    if element and element.parent:\n",
    "        value = element.parent.get_text(strip=True)\n",
    "        # Extract only the numeric part\n",
    "        numeric_value = re.search(r'\\d+', value)\n",
    "        if numeric_value:\n",
    "            details[attr_name] = numeric_value.group()"
   ]
  },
  {
   "cell_type": "code",
   "execution_count": 93,
   "metadata": {},
   "outputs": [
    {
     "name": "stdout",
     "output_type": "stream",
     "text": [
      "Publisher name: MOHADEB PROPIEDADES\n",
      "Publisher ID: 17032686\n",
      "Publisher URL: /inmobiliarias/mohadeb-propiedades_17032686-inmuebles.html\n"
     ]
    }
   ],
   "source": [
    "# Find all script tags\n",
    "script_tags = soup.find_all('script')\n",
    "\n",
    "publisher_data = None\n",
    "\n",
    "# Loop through all script tags\n",
    "for script in script_tags:\n",
    "    # Check if the script contains the publisher data\n",
    "    if script.string and \"'publisher':\" in script.string:\n",
    "        # Extract the JSON-like object\n",
    "        match = re.search(r\"'publisher'\\s*:\\s*(\\{[^}]+\\})\", script.string)\n",
    "        if match:\n",
    "            # Get the matched group and replace single quotes with double quotes\n",
    "            publisher_json = match.group(1).replace(\"'\", '\"')\n",
    "            # Parse the JSON\n",
    "            try:\n",
    "                publisher_data = json.loads(publisher_json)\n",
    "                break  # Exit the loop once we've found and parsed the data\n",
    "            except json.JSONDecodeError:\n",
    "                print(\"Error decoding JSON\")\n",
    "\n",
    "if publisher_data:\n",
    "    print(f\"Publisher name: {publisher_data.get('name')}\")\n",
    "    print(f\"Publisher ID: {publisher_data.get('publisherId')}\")\n",
    "    print(f\"Publisher URL: {publisher_data.get('url')}\")\n",
    "else:\n",
    "    print(\"Publisher data not found\")"
   ]
  }
 ],
 "metadata": {
  "kernelspec": {
   "display_name": "venv",
   "language": "python",
   "name": "python3"
  },
  "language_info": {
   "codemirror_mode": {
    "name": "ipython",
    "version": 3
   },
   "file_extension": ".py",
   "mimetype": "text/x-python",
   "name": "python",
   "nbconvert_exporter": "python",
   "pygments_lexer": "ipython3",
   "version": "3.10.14"
  }
 },
 "nbformat": 4,
 "nbformat_minor": 2
}
